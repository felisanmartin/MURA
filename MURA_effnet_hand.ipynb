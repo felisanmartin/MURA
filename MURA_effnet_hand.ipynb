{
  "cells": [
    {
      "cell_type": "markdown",
      "metadata": {
        "id": "o9Auae6n3zxq"
      },
      "source": [
        "# EfficientNet Implementation for MURA: Hand, Wrist and Fingers"
      ]
    },
    {
      "cell_type": "markdown",
      "metadata": {
        "id": "A5qbSmEk3_DW"
      },
      "source": [
        "## Imports"
      ]
    },
    {
      "cell_type": "code",
      "execution_count": null,
      "metadata": {
        "colab": {
          "background_save": true,
          "base_uri": "https://localhost:8080/"
        },
        "id": "s-0cfHFJZzb6",
        "outputId": "2d06fbcd-88ca-4277-d083-6145389106be"
      },
      "outputs": [
        {
          "name": "stdout",
          "output_type": "stream",
          "text": [
            "Mounted at /content/drive\n"
          ]
        }
      ],
      "source": [
        "from google.colab import drive\n",
        "drive.mount('/content/drive')"
      ]
    },
    {
      "cell_type": "code",
      "execution_count": null,
      "metadata": {
        "colab": {
          "background_save": true,
          "base_uri": "https://localhost:8080/"
        },
        "id": "YYvXZMXY4K4X",
        "outputId": "bd74309d-5d61-4f6d-a0da-64b8631bde94"
      },
      "outputs": [
        {
          "name": "stdout",
          "output_type": "stream",
          "text": [
            "['train_image_paths.csv', 'train_labeled_studies.csv', 'valid_labeled_studies.csv', 'valid_image_paths.csv', 'train', 'valid']\n"
          ]
        }
      ],
      "source": [
        "import numpy as np\n",
        "import tensorflow as tf\n",
        "\n",
        "import pandas as pd\n",
        "import matplotlib.pyplot as pyplot\n",
        "import os\n",
        "\n",
        "dataset_path = os.listdir('/content/drive/Othercomputers/macbookpro/MURA-v1.1')\n",
        "\n",
        "print(dataset_path)"
      ]
    },
    {
      "cell_type": "code",
      "execution_count": null,
      "metadata": {
        "colab": {
          "background_save": true,
          "base_uri": "https://localhost:8080/",
          "height": 206
        },
        "id": "UWEAMJ7Q4fnk",
        "outputId": "a07e0336-b5b4-4523-fa35-70fb88e56748"
      },
      "outputs": [
        {
          "data": {
            "text/html": [
              "\n",
              "  <div id=\"df-9adffca1-25fb-4109-b980-53fa0281b262\">\n",
              "    <div class=\"colab-df-container\">\n",
              "      <div>\n",
              "<style scoped>\n",
              "    .dataframe tbody tr th:only-of-type {\n",
              "        vertical-align: middle;\n",
              "    }\n",
              "\n",
              "    .dataframe tbody tr th {\n",
              "        vertical-align: top;\n",
              "    }\n",
              "\n",
              "    .dataframe thead th {\n",
              "        text-align: right;\n",
              "    }\n",
              "</style>\n",
              "<table border=\"1\" class=\"dataframe\">\n",
              "  <thead>\n",
              "    <tr style=\"text-align: right;\">\n",
              "      <th></th>\n",
              "      <th>path</th>\n",
              "      <th>bodypart</th>\n",
              "      <th>abnormality</th>\n",
              "    </tr>\n",
              "  </thead>\n",
              "  <tbody>\n",
              "    <tr>\n",
              "      <th>0</th>\n",
              "      <td>/Users/felipesanmartin/Study/TFG/data/MURA-v1....</td>\n",
              "      <td>XR_SHOULDER</td>\n",
              "      <td>1</td>\n",
              "    </tr>\n",
              "    <tr>\n",
              "      <th>1</th>\n",
              "      <td>/Users/felipesanmartin/Study/TFG/data/MURA-v1....</td>\n",
              "      <td>XR_SHOULDER</td>\n",
              "      <td>1</td>\n",
              "    </tr>\n",
              "    <tr>\n",
              "      <th>2</th>\n",
              "      <td>/Users/felipesanmartin/Study/TFG/data/MURA-v1....</td>\n",
              "      <td>XR_SHOULDER</td>\n",
              "      <td>1</td>\n",
              "    </tr>\n",
              "    <tr>\n",
              "      <th>3</th>\n",
              "      <td>/Users/felipesanmartin/Study/TFG/data/MURA-v1....</td>\n",
              "      <td>XR_SHOULDER</td>\n",
              "      <td>1</td>\n",
              "    </tr>\n",
              "    <tr>\n",
              "      <th>4</th>\n",
              "      <td>/Users/felipesanmartin/Study/TFG/data/MURA-v1....</td>\n",
              "      <td>XR_SHOULDER</td>\n",
              "      <td>1</td>\n",
              "    </tr>\n",
              "  </tbody>\n",
              "</table>\n",
              "</div>\n",
              "      <button class=\"colab-df-convert\" onclick=\"convertToInteractive('df-9adffca1-25fb-4109-b980-53fa0281b262')\"\n",
              "              title=\"Convert this dataframe to an interactive table.\"\n",
              "              style=\"display:none;\">\n",
              "        \n",
              "  <svg xmlns=\"http://www.w3.org/2000/svg\" height=\"24px\"viewBox=\"0 0 24 24\"\n",
              "       width=\"24px\">\n",
              "    <path d=\"M0 0h24v24H0V0z\" fill=\"none\"/>\n",
              "    <path d=\"M18.56 5.44l.94 2.06.94-2.06 2.06-.94-2.06-.94-.94-2.06-.94 2.06-2.06.94zm-11 1L8.5 8.5l.94-2.06 2.06-.94-2.06-.94L8.5 2.5l-.94 2.06-2.06.94zm10 10l.94 2.06.94-2.06 2.06-.94-2.06-.94-.94-2.06-.94 2.06-2.06.94z\"/><path d=\"M17.41 7.96l-1.37-1.37c-.4-.4-.92-.59-1.43-.59-.52 0-1.04.2-1.43.59L10.3 9.45l-7.72 7.72c-.78.78-.78 2.05 0 2.83L4 21.41c.39.39.9.59 1.41.59.51 0 1.02-.2 1.41-.59l7.78-7.78 2.81-2.81c.8-.78.8-2.07 0-2.86zM5.41 20L4 18.59l7.72-7.72 1.47 1.35L5.41 20z\"/>\n",
              "  </svg>\n",
              "      </button>\n",
              "      \n",
              "  <style>\n",
              "    .colab-df-container {\n",
              "      display:flex;\n",
              "      flex-wrap:wrap;\n",
              "      gap: 12px;\n",
              "    }\n",
              "\n",
              "    .colab-df-convert {\n",
              "      background-color: #E8F0FE;\n",
              "      border: none;\n",
              "      border-radius: 50%;\n",
              "      cursor: pointer;\n",
              "      display: none;\n",
              "      fill: #1967D2;\n",
              "      height: 32px;\n",
              "      padding: 0 0 0 0;\n",
              "      width: 32px;\n",
              "    }\n",
              "\n",
              "    .colab-df-convert:hover {\n",
              "      background-color: #E2EBFA;\n",
              "      box-shadow: 0px 1px 2px rgba(60, 64, 67, 0.3), 0px 1px 3px 1px rgba(60, 64, 67, 0.15);\n",
              "      fill: #174EA6;\n",
              "    }\n",
              "\n",
              "    [theme=dark] .colab-df-convert {\n",
              "      background-color: #3B4455;\n",
              "      fill: #D2E3FC;\n",
              "    }\n",
              "\n",
              "    [theme=dark] .colab-df-convert:hover {\n",
              "      background-color: #434B5C;\n",
              "      box-shadow: 0px 1px 3px 1px rgba(0, 0, 0, 0.15);\n",
              "      filter: drop-shadow(0px 1px 2px rgba(0, 0, 0, 0.3));\n",
              "      fill: #FFFFFF;\n",
              "    }\n",
              "  </style>\n",
              "\n",
              "      <script>\n",
              "        const buttonEl =\n",
              "          document.querySelector('#df-9adffca1-25fb-4109-b980-53fa0281b262 button.colab-df-convert');\n",
              "        buttonEl.style.display =\n",
              "          google.colab.kernel.accessAllowed ? 'block' : 'none';\n",
              "\n",
              "        async function convertToInteractive(key) {\n",
              "          const element = document.querySelector('#df-9adffca1-25fb-4109-b980-53fa0281b262');\n",
              "          const dataTable =\n",
              "            await google.colab.kernel.invokeFunction('convertToInteractive',\n",
              "                                                     [key], {});\n",
              "          if (!dataTable) return;\n",
              "\n",
              "          const docLinkHtml = 'Like what you see? Visit the ' +\n",
              "            '<a target=\"_blank\" href=https://colab.research.google.com/notebooks/data_table.ipynb>data table notebook</a>'\n",
              "            + ' to learn more about interactive tables.';\n",
              "          element.innerHTML = '';\n",
              "          dataTable['output_type'] = 'display_data';\n",
              "          await google.colab.output.renderOutput(dataTable, element);\n",
              "          const docLink = document.createElement('div');\n",
              "          docLink.innerHTML = docLinkHtml;\n",
              "          element.appendChild(docLink);\n",
              "        }\n",
              "      </script>\n",
              "    </div>\n",
              "  </div>\n",
              "  "
            ],
            "text/plain": [
              "                                                path     bodypart  abnormality\n",
              "0  /Users/felipesanmartin/Study/TFG/data/MURA-v1....  XR_SHOULDER            1\n",
              "1  /Users/felipesanmartin/Study/TFG/data/MURA-v1....  XR_SHOULDER            1\n",
              "2  /Users/felipesanmartin/Study/TFG/data/MURA-v1....  XR_SHOULDER            1\n",
              "3  /Users/felipesanmartin/Study/TFG/data/MURA-v1....  XR_SHOULDER            1\n",
              "4  /Users/felipesanmartin/Study/TFG/data/MURA-v1....  XR_SHOULDER            1"
            ]
          },
          "execution_count": 3,
          "metadata": {},
          "output_type": "execute_result"
        }
      ],
      "source": [
        "df = pd.read_csv('/content/drive/MyDrive/TFG/mura_df.csv')\n",
        "df.head()"
      ]
    },
    {
      "cell_type": "code",
      "execution_count": null,
      "metadata": {
        "colab": {
          "background_save": true,
          "base_uri": "https://localhost:8080/"
        },
        "id": "AdnXxL_s4809",
        "outputId": "d3d83655-43c1-4c6b-8691-e857778372c7"
      },
      "outputs": [
        {
          "data": {
            "text/plain": [
              "0    23602\n",
              "1    16403\n",
              "Name: abnormality, dtype: int64"
            ]
          },
          "execution_count": 4,
          "metadata": {},
          "output_type": "execute_result"
        }
      ],
      "source": [
        "df['abnormality'].value_counts()"
      ]
    },
    {
      "cell_type": "code",
      "execution_count": null,
      "metadata": {
        "colab": {
          "background_save": true,
          "base_uri": "https://localhost:8080/"
        },
        "id": "eu8qU0Bu7UCW",
        "outputId": "57ec4136-f324-4b17-af22-5321b2908bef"
      },
      "outputs": [
        {
          "data": {
            "text/plain": [
              "XR_WRIST       10411\n",
              "XR_SHOULDER     8942\n",
              "XR_HAND         6003\n",
              "XR_FINGER       5567\n",
              "XR_ELBOW        5396\n",
              "XR_FOREARM      2126\n",
              "XR_HUMERUS      1560\n",
              "Name: bodypart, dtype: int64"
            ]
          },
          "execution_count": 5,
          "metadata": {},
          "output_type": "execute_result"
        }
      ],
      "source": [
        "df['bodypart'].value_counts()"
      ]
    },
    {
      "cell_type": "code",
      "execution_count": null,
      "metadata": {
        "colab": {
          "background_save": true,
          "base_uri": "https://localhost:8080/",
          "height": 530
        },
        "id": "hJoocB9T6ydJ",
        "outputId": "5cae05eb-7974-480a-ffc3-100a667c456b"
      },
      "outputs": [
        {
          "name": "stderr",
          "output_type": "stream",
          "text": [
            "/usr/local/lib/python3.7/dist-packages/ipykernel_launcher.py:3: SettingWithCopyWarning: \n",
            "A value is trying to be set on a copy of a slice from a DataFrame\n",
            "\n",
            "See the caveats in the documentation: https://pandas.pydata.org/pandas-docs/stable/user_guide/indexing.html#returning-a-view-versus-a-copy\n",
            "  This is separate from the ipykernel package so we can avoid doing imports until\n"
          ]
        },
        {
          "data": {
            "text/html": [
              "\n",
              "  <div id=\"df-805d0651-b632-4303-ac28-49b1b350bac9\">\n",
              "    <div class=\"colab-df-container\">\n",
              "      <div>\n",
              "<style scoped>\n",
              "    .dataframe tbody tr th:only-of-type {\n",
              "        vertical-align: middle;\n",
              "    }\n",
              "\n",
              "    .dataframe tbody tr th {\n",
              "        vertical-align: top;\n",
              "    }\n",
              "\n",
              "    .dataframe thead th {\n",
              "        text-align: right;\n",
              "    }\n",
              "</style>\n",
              "<table border=\"1\" class=\"dataframe\">\n",
              "  <thead>\n",
              "    <tr style=\"text-align: right;\">\n",
              "      <th></th>\n",
              "      <th>path</th>\n",
              "      <th>bodypart</th>\n",
              "      <th>abnormality</th>\n",
              "    </tr>\n",
              "  </thead>\n",
              "  <tbody>\n",
              "    <tr>\n",
              "      <th>0</th>\n",
              "      <td>/content/drive/Othercomputers/macbookpro/MURA-...</td>\n",
              "      <td>XR_SHOULDER</td>\n",
              "      <td>1</td>\n",
              "    </tr>\n",
              "    <tr>\n",
              "      <th>1</th>\n",
              "      <td>/content/drive/Othercomputers/macbookpro/MURA-...</td>\n",
              "      <td>XR_SHOULDER</td>\n",
              "      <td>1</td>\n",
              "    </tr>\n",
              "    <tr>\n",
              "      <th>2</th>\n",
              "      <td>/content/drive/Othercomputers/macbookpro/MURA-...</td>\n",
              "      <td>XR_SHOULDER</td>\n",
              "      <td>1</td>\n",
              "    </tr>\n",
              "    <tr>\n",
              "      <th>3</th>\n",
              "      <td>/content/drive/Othercomputers/macbookpro/MURA-...</td>\n",
              "      <td>XR_SHOULDER</td>\n",
              "      <td>1</td>\n",
              "    </tr>\n",
              "    <tr>\n",
              "      <th>4</th>\n",
              "      <td>/content/drive/Othercomputers/macbookpro/MURA-...</td>\n",
              "      <td>XR_SHOULDER</td>\n",
              "      <td>1</td>\n",
              "    </tr>\n",
              "    <tr>\n",
              "      <th>...</th>\n",
              "      <td>...</td>\n",
              "      <td>...</td>\n",
              "      <td>...</td>\n",
              "    </tr>\n",
              "    <tr>\n",
              "      <th>40000</th>\n",
              "      <td>/content/drive/Othercomputers/macbookpro/MURA-...</td>\n",
              "      <td>XR_FINGER</td>\n",
              "      <td>0</td>\n",
              "    </tr>\n",
              "    <tr>\n",
              "      <th>40001</th>\n",
              "      <td>/content/drive/Othercomputers/macbookpro/MURA-...</td>\n",
              "      <td>XR_FINGER</td>\n",
              "      <td>0</td>\n",
              "    </tr>\n",
              "    <tr>\n",
              "      <th>40002</th>\n",
              "      <td>/content/drive/Othercomputers/macbookpro/MURA-...</td>\n",
              "      <td>XR_FINGER</td>\n",
              "      <td>0</td>\n",
              "    </tr>\n",
              "    <tr>\n",
              "      <th>40003</th>\n",
              "      <td>/content/drive/Othercomputers/macbookpro/MURA-...</td>\n",
              "      <td>XR_FINGER</td>\n",
              "      <td>0</td>\n",
              "    </tr>\n",
              "    <tr>\n",
              "      <th>40004</th>\n",
              "      <td>/content/drive/Othercomputers/macbookpro/MURA-...</td>\n",
              "      <td>XR_FINGER</td>\n",
              "      <td>0</td>\n",
              "    </tr>\n",
              "  </tbody>\n",
              "</table>\n",
              "<p>40005 rows × 3 columns</p>\n",
              "</div>\n",
              "      <button class=\"colab-df-convert\" onclick=\"convertToInteractive('df-805d0651-b632-4303-ac28-49b1b350bac9')\"\n",
              "              title=\"Convert this dataframe to an interactive table.\"\n",
              "              style=\"display:none;\">\n",
              "        \n",
              "  <svg xmlns=\"http://www.w3.org/2000/svg\" height=\"24px\"viewBox=\"0 0 24 24\"\n",
              "       width=\"24px\">\n",
              "    <path d=\"M0 0h24v24H0V0z\" fill=\"none\"/>\n",
              "    <path d=\"M18.56 5.44l.94 2.06.94-2.06 2.06-.94-2.06-.94-.94-2.06-.94 2.06-2.06.94zm-11 1L8.5 8.5l.94-2.06 2.06-.94-2.06-.94L8.5 2.5l-.94 2.06-2.06.94zm10 10l.94 2.06.94-2.06 2.06-.94-2.06-.94-.94-2.06-.94 2.06-2.06.94z\"/><path d=\"M17.41 7.96l-1.37-1.37c-.4-.4-.92-.59-1.43-.59-.52 0-1.04.2-1.43.59L10.3 9.45l-7.72 7.72c-.78.78-.78 2.05 0 2.83L4 21.41c.39.39.9.59 1.41.59.51 0 1.02-.2 1.41-.59l7.78-7.78 2.81-2.81c.8-.78.8-2.07 0-2.86zM5.41 20L4 18.59l7.72-7.72 1.47 1.35L5.41 20z\"/>\n",
              "  </svg>\n",
              "      </button>\n",
              "      \n",
              "  <style>\n",
              "    .colab-df-container {\n",
              "      display:flex;\n",
              "      flex-wrap:wrap;\n",
              "      gap: 12px;\n",
              "    }\n",
              "\n",
              "    .colab-df-convert {\n",
              "      background-color: #E8F0FE;\n",
              "      border: none;\n",
              "      border-radius: 50%;\n",
              "      cursor: pointer;\n",
              "      display: none;\n",
              "      fill: #1967D2;\n",
              "      height: 32px;\n",
              "      padding: 0 0 0 0;\n",
              "      width: 32px;\n",
              "    }\n",
              "\n",
              "    .colab-df-convert:hover {\n",
              "      background-color: #E2EBFA;\n",
              "      box-shadow: 0px 1px 2px rgba(60, 64, 67, 0.3), 0px 1px 3px 1px rgba(60, 64, 67, 0.15);\n",
              "      fill: #174EA6;\n",
              "    }\n",
              "\n",
              "    [theme=dark] .colab-df-convert {\n",
              "      background-color: #3B4455;\n",
              "      fill: #D2E3FC;\n",
              "    }\n",
              "\n",
              "    [theme=dark] .colab-df-convert:hover {\n",
              "      background-color: #434B5C;\n",
              "      box-shadow: 0px 1px 3px 1px rgba(0, 0, 0, 0.15);\n",
              "      filter: drop-shadow(0px 1px 2px rgba(0, 0, 0, 0.3));\n",
              "      fill: #FFFFFF;\n",
              "    }\n",
              "  </style>\n",
              "\n",
              "      <script>\n",
              "        const buttonEl =\n",
              "          document.querySelector('#df-805d0651-b632-4303-ac28-49b1b350bac9 button.colab-df-convert');\n",
              "        buttonEl.style.display =\n",
              "          google.colab.kernel.accessAllowed ? 'block' : 'none';\n",
              "\n",
              "        async function convertToInteractive(key) {\n",
              "          const element = document.querySelector('#df-805d0651-b632-4303-ac28-49b1b350bac9');\n",
              "          const dataTable =\n",
              "            await google.colab.kernel.invokeFunction('convertToInteractive',\n",
              "                                                     [key], {});\n",
              "          if (!dataTable) return;\n",
              "\n",
              "          const docLinkHtml = 'Like what you see? Visit the ' +\n",
              "            '<a target=\"_blank\" href=https://colab.research.google.com/notebooks/data_table.ipynb>data table notebook</a>'\n",
              "            + ' to learn more about interactive tables.';\n",
              "          element.innerHTML = '';\n",
              "          dataTable['output_type'] = 'display_data';\n",
              "          await google.colab.output.renderOutput(dataTable, element);\n",
              "          const docLink = document.createElement('div');\n",
              "          docLink.innerHTML = docLinkHtml;\n",
              "          element.appendChild(docLink);\n",
              "        }\n",
              "      </script>\n",
              "    </div>\n",
              "  </div>\n",
              "  "
            ],
            "text/plain": [
              "                                                    path     bodypart  \\\n",
              "0      /content/drive/Othercomputers/macbookpro/MURA-...  XR_SHOULDER   \n",
              "1      /content/drive/Othercomputers/macbookpro/MURA-...  XR_SHOULDER   \n",
              "2      /content/drive/Othercomputers/macbookpro/MURA-...  XR_SHOULDER   \n",
              "3      /content/drive/Othercomputers/macbookpro/MURA-...  XR_SHOULDER   \n",
              "4      /content/drive/Othercomputers/macbookpro/MURA-...  XR_SHOULDER   \n",
              "...                                                  ...          ...   \n",
              "40000  /content/drive/Othercomputers/macbookpro/MURA-...    XR_FINGER   \n",
              "40001  /content/drive/Othercomputers/macbookpro/MURA-...    XR_FINGER   \n",
              "40002  /content/drive/Othercomputers/macbookpro/MURA-...    XR_FINGER   \n",
              "40003  /content/drive/Othercomputers/macbookpro/MURA-...    XR_FINGER   \n",
              "40004  /content/drive/Othercomputers/macbookpro/MURA-...    XR_FINGER   \n",
              "\n",
              "       abnormality  \n",
              "0                1  \n",
              "1                1  \n",
              "2                1  \n",
              "3                1  \n",
              "4                1  \n",
              "...            ...  \n",
              "40000            0  \n",
              "40001            0  \n",
              "40002            0  \n",
              "40003            0  \n",
              "40004            0  \n",
              "\n",
              "[40005 rows x 3 columns]"
            ]
          },
          "execution_count": 6,
          "metadata": {},
          "output_type": "execute_result"
        }
      ],
      "source": [
        "# Changing the path column to match the Google Drive directories\n",
        "for i in range(len(df['path'])):\n",
        "  df['path'][i] = df['path'][i].replace(\"/Users/felipesanmartin/Study/TFG/data\", \"/content/drive/Othercomputers/macbookpro\")\n",
        "df"
      ]
    },
    {
      "cell_type": "code",
      "execution_count": null,
      "metadata": {
        "colab": {
          "background_save": true,
          "base_uri": "https://localhost:8080/"
        },
        "id": "90QwJYEY64JO",
        "outputId": "d6bf8ddf-7c05-4cf4-8ba9-b6a1ae7012bd"
      },
      "outputs": [
        {
          "data": {
            "text/plain": [
              "['',\n",
              " 'content',\n",
              " 'drive',\n",
              " 'Othercomputers',\n",
              " 'macbookpro',\n",
              " 'MURA-v1.1',\n",
              " 'train',\n",
              " 'XR_SHOULDER',\n",
              " 'patient00001',\n",
              " 'study1_positive',\n",
              " 'image1.png']"
            ]
          },
          "execution_count": 7,
          "metadata": {},
          "output_type": "execute_result"
        }
      ],
      "source": [
        "\n",
        "df.path[0].split(\"/\")"
      ]
    },
    {
      "cell_type": "code",
      "execution_count": null,
      "metadata": {
        "id": "nayiaiAc3jih"
      },
      "outputs": [],
      "source": [
        "def get_study(path):\n",
        "  study = str(path.split(\"/\")[8]) + \"/\" + str(path.split(\"/\")[9])\n",
        "  return study"
      ]
    },
    {
      "cell_type": "code",
      "execution_count": null,
      "metadata": {
        "colab": {
          "base_uri": "https://localhost:8080/",
          "height": 468
        },
        "id": "GXm2Z_7t18AT",
        "outputId": "1f601ea6-eccc-4dc3-e21f-d891ae1fa954"
      },
      "outputs": [
        {
          "data": {
            "text/html": [
              "\n",
              "  <div id=\"df-3524d88c-e3aa-421f-b2a3-3966a982dfde\">\n",
              "    <div class=\"colab-df-container\">\n",
              "      <div>\n",
              "<style scoped>\n",
              "    .dataframe tbody tr th:only-of-type {\n",
              "        vertical-align: middle;\n",
              "    }\n",
              "\n",
              "    .dataframe tbody tr th {\n",
              "        vertical-align: top;\n",
              "    }\n",
              "\n",
              "    .dataframe thead th {\n",
              "        text-align: right;\n",
              "    }\n",
              "</style>\n",
              "<table border=\"1\" class=\"dataframe\">\n",
              "  <thead>\n",
              "    <tr style=\"text-align: right;\">\n",
              "      <th></th>\n",
              "      <th>path</th>\n",
              "      <th>bodypart</th>\n",
              "      <th>abnormality</th>\n",
              "      <th>study</th>\n",
              "    </tr>\n",
              "  </thead>\n",
              "  <tbody>\n",
              "    <tr>\n",
              "      <th>0</th>\n",
              "      <td>/content/drive/Othercomputers/macbookpro/MURA-...</td>\n",
              "      <td>XR_SHOULDER</td>\n",
              "      <td>1</td>\n",
              "      <td>patient00001/study1_positive</td>\n",
              "    </tr>\n",
              "    <tr>\n",
              "      <th>1</th>\n",
              "      <td>/content/drive/Othercomputers/macbookpro/MURA-...</td>\n",
              "      <td>XR_SHOULDER</td>\n",
              "      <td>1</td>\n",
              "      <td>patient00001/study1_positive</td>\n",
              "    </tr>\n",
              "    <tr>\n",
              "      <th>2</th>\n",
              "      <td>/content/drive/Othercomputers/macbookpro/MURA-...</td>\n",
              "      <td>XR_SHOULDER</td>\n",
              "      <td>1</td>\n",
              "      <td>patient00001/study1_positive</td>\n",
              "    </tr>\n",
              "    <tr>\n",
              "      <th>3</th>\n",
              "      <td>/content/drive/Othercomputers/macbookpro/MURA-...</td>\n",
              "      <td>XR_SHOULDER</td>\n",
              "      <td>1</td>\n",
              "      <td>patient00002/study1_positive</td>\n",
              "    </tr>\n",
              "    <tr>\n",
              "      <th>4</th>\n",
              "      <td>/content/drive/Othercomputers/macbookpro/MURA-...</td>\n",
              "      <td>XR_SHOULDER</td>\n",
              "      <td>1</td>\n",
              "      <td>patient00002/study1_positive</td>\n",
              "    </tr>\n",
              "    <tr>\n",
              "      <th>...</th>\n",
              "      <td>...</td>\n",
              "      <td>...</td>\n",
              "      <td>...</td>\n",
              "      <td>...</td>\n",
              "    </tr>\n",
              "    <tr>\n",
              "      <th>40000</th>\n",
              "      <td>/content/drive/Othercomputers/macbookpro/MURA-...</td>\n",
              "      <td>XR_FINGER</td>\n",
              "      <td>0</td>\n",
              "      <td>patient11966/study1_negative</td>\n",
              "    </tr>\n",
              "    <tr>\n",
              "      <th>40001</th>\n",
              "      <td>/content/drive/Othercomputers/macbookpro/MURA-...</td>\n",
              "      <td>XR_FINGER</td>\n",
              "      <td>0</td>\n",
              "      <td>patient11967/study1_negative</td>\n",
              "    </tr>\n",
              "    <tr>\n",
              "      <th>40002</th>\n",
              "      <td>/content/drive/Othercomputers/macbookpro/MURA-...</td>\n",
              "      <td>XR_FINGER</td>\n",
              "      <td>0</td>\n",
              "      <td>patient11967/study1_negative</td>\n",
              "    </tr>\n",
              "    <tr>\n",
              "      <th>40003</th>\n",
              "      <td>/content/drive/Othercomputers/macbookpro/MURA-...</td>\n",
              "      <td>XR_FINGER</td>\n",
              "      <td>0</td>\n",
              "      <td>patient11967/study1_negative</td>\n",
              "    </tr>\n",
              "    <tr>\n",
              "      <th>40004</th>\n",
              "      <td>/content/drive/Othercomputers/macbookpro/MURA-...</td>\n",
              "      <td>XR_FINGER</td>\n",
              "      <td>0</td>\n",
              "      <td>patient11967/study1_negative</td>\n",
              "    </tr>\n",
              "  </tbody>\n",
              "</table>\n",
              "<p>40005 rows × 4 columns</p>\n",
              "</div>\n",
              "      <button class=\"colab-df-convert\" onclick=\"convertToInteractive('df-3524d88c-e3aa-421f-b2a3-3966a982dfde')\"\n",
              "              title=\"Convert this dataframe to an interactive table.\"\n",
              "              style=\"display:none;\">\n",
              "        \n",
              "  <svg xmlns=\"http://www.w3.org/2000/svg\" height=\"24px\"viewBox=\"0 0 24 24\"\n",
              "       width=\"24px\">\n",
              "    <path d=\"M0 0h24v24H0V0z\" fill=\"none\"/>\n",
              "    <path d=\"M18.56 5.44l.94 2.06.94-2.06 2.06-.94-2.06-.94-.94-2.06-.94 2.06-2.06.94zm-11 1L8.5 8.5l.94-2.06 2.06-.94-2.06-.94L8.5 2.5l-.94 2.06-2.06.94zm10 10l.94 2.06.94-2.06 2.06-.94-2.06-.94-.94-2.06-.94 2.06-2.06.94z\"/><path d=\"M17.41 7.96l-1.37-1.37c-.4-.4-.92-.59-1.43-.59-.52 0-1.04.2-1.43.59L10.3 9.45l-7.72 7.72c-.78.78-.78 2.05 0 2.83L4 21.41c.39.39.9.59 1.41.59.51 0 1.02-.2 1.41-.59l7.78-7.78 2.81-2.81c.8-.78.8-2.07 0-2.86zM5.41 20L4 18.59l7.72-7.72 1.47 1.35L5.41 20z\"/>\n",
              "  </svg>\n",
              "      </button>\n",
              "      \n",
              "  <style>\n",
              "    .colab-df-container {\n",
              "      display:flex;\n",
              "      flex-wrap:wrap;\n",
              "      gap: 12px;\n",
              "    }\n",
              "\n",
              "    .colab-df-convert {\n",
              "      background-color: #E8F0FE;\n",
              "      border: none;\n",
              "      border-radius: 50%;\n",
              "      cursor: pointer;\n",
              "      display: none;\n",
              "      fill: #1967D2;\n",
              "      height: 32px;\n",
              "      padding: 0 0 0 0;\n",
              "      width: 32px;\n",
              "    }\n",
              "\n",
              "    .colab-df-convert:hover {\n",
              "      background-color: #E2EBFA;\n",
              "      box-shadow: 0px 1px 2px rgba(60, 64, 67, 0.3), 0px 1px 3px 1px rgba(60, 64, 67, 0.15);\n",
              "      fill: #174EA6;\n",
              "    }\n",
              "\n",
              "    [theme=dark] .colab-df-convert {\n",
              "      background-color: #3B4455;\n",
              "      fill: #D2E3FC;\n",
              "    }\n",
              "\n",
              "    [theme=dark] .colab-df-convert:hover {\n",
              "      background-color: #434B5C;\n",
              "      box-shadow: 0px 1px 3px 1px rgba(0, 0, 0, 0.15);\n",
              "      filter: drop-shadow(0px 1px 2px rgba(0, 0, 0, 0.3));\n",
              "      fill: #FFFFFF;\n",
              "    }\n",
              "  </style>\n",
              "\n",
              "      <script>\n",
              "        const buttonEl =\n",
              "          document.querySelector('#df-3524d88c-e3aa-421f-b2a3-3966a982dfde button.colab-df-convert');\n",
              "        buttonEl.style.display =\n",
              "          google.colab.kernel.accessAllowed ? 'block' : 'none';\n",
              "\n",
              "        async function convertToInteractive(key) {\n",
              "          const element = document.querySelector('#df-3524d88c-e3aa-421f-b2a3-3966a982dfde');\n",
              "          const dataTable =\n",
              "            await google.colab.kernel.invokeFunction('convertToInteractive',\n",
              "                                                     [key], {});\n",
              "          if (!dataTable) return;\n",
              "\n",
              "          const docLinkHtml = 'Like what you see? Visit the ' +\n",
              "            '<a target=\"_blank\" href=https://colab.research.google.com/notebooks/data_table.ipynb>data table notebook</a>'\n",
              "            + ' to learn more about interactive tables.';\n",
              "          element.innerHTML = '';\n",
              "          dataTable['output_type'] = 'display_data';\n",
              "          await google.colab.output.renderOutput(dataTable, element);\n",
              "          const docLink = document.createElement('div');\n",
              "          docLink.innerHTML = docLinkHtml;\n",
              "          element.appendChild(docLink);\n",
              "        }\n",
              "      </script>\n",
              "    </div>\n",
              "  </div>\n",
              "  "
            ],
            "text/plain": [
              "                                                    path     bodypart  \\\n",
              "0      /content/drive/Othercomputers/macbookpro/MURA-...  XR_SHOULDER   \n",
              "1      /content/drive/Othercomputers/macbookpro/MURA-...  XR_SHOULDER   \n",
              "2      /content/drive/Othercomputers/macbookpro/MURA-...  XR_SHOULDER   \n",
              "3      /content/drive/Othercomputers/macbookpro/MURA-...  XR_SHOULDER   \n",
              "4      /content/drive/Othercomputers/macbookpro/MURA-...  XR_SHOULDER   \n",
              "...                                                  ...          ...   \n",
              "40000  /content/drive/Othercomputers/macbookpro/MURA-...    XR_FINGER   \n",
              "40001  /content/drive/Othercomputers/macbookpro/MURA-...    XR_FINGER   \n",
              "40002  /content/drive/Othercomputers/macbookpro/MURA-...    XR_FINGER   \n",
              "40003  /content/drive/Othercomputers/macbookpro/MURA-...    XR_FINGER   \n",
              "40004  /content/drive/Othercomputers/macbookpro/MURA-...    XR_FINGER   \n",
              "\n",
              "       abnormality                         study  \n",
              "0                1  patient00001/study1_positive  \n",
              "1                1  patient00001/study1_positive  \n",
              "2                1  patient00001/study1_positive  \n",
              "3                1  patient00002/study1_positive  \n",
              "4                1  patient00002/study1_positive  \n",
              "...            ...                           ...  \n",
              "40000            0  patient11966/study1_negative  \n",
              "40001            0  patient11967/study1_negative  \n",
              "40002            0  patient11967/study1_negative  \n",
              "40003            0  patient11967/study1_negative  \n",
              "40004            0  patient11967/study1_negative  \n",
              "\n",
              "[40005 rows x 4 columns]"
            ]
          },
          "execution_count": 10,
          "metadata": {},
          "output_type": "execute_result"
        }
      ],
      "source": [
        "df[\"study\"] = [get_study(i) for i in df.path]\n",
        "df.sort_values(by = \"study\", ignore_index = True, inplace = True)\n",
        "df"
      ]
    },
    {
      "cell_type": "markdown",
      "metadata": {
        "id": "U25G8Ebpd2Fy"
      },
      "source": [
        "### Only training on: Finger, Hand and Wrist Images"
      ]
    },
    {
      "cell_type": "code",
      "execution_count": null,
      "metadata": {
        "colab": {
          "base_uri": "https://localhost:8080/",
          "height": 424
        },
        "id": "tfo5mICuip32",
        "outputId": "b90d366a-7f58-4c82-ed9a-6eebce44d113"
      },
      "outputs": [
        {
          "data": {
            "text/html": [
              "\n",
              "  <div id=\"df-5673d249-f416-4e9d-bcbc-98d3c2184d19\">\n",
              "    <div class=\"colab-df-container\">\n",
              "      <div>\n",
              "<style scoped>\n",
              "    .dataframe tbody tr th:only-of-type {\n",
              "        vertical-align: middle;\n",
              "    }\n",
              "\n",
              "    .dataframe tbody tr th {\n",
              "        vertical-align: top;\n",
              "    }\n",
              "\n",
              "    .dataframe thead th {\n",
              "        text-align: right;\n",
              "    }\n",
              "</style>\n",
              "<table border=\"1\" class=\"dataframe\">\n",
              "  <thead>\n",
              "    <tr style=\"text-align: right;\">\n",
              "      <th></th>\n",
              "      <th>path</th>\n",
              "      <th>bodypart</th>\n",
              "      <th>abnormality</th>\n",
              "      <th>study</th>\n",
              "    </tr>\n",
              "  </thead>\n",
              "  <tbody>\n",
              "    <tr>\n",
              "      <th>16</th>\n",
              "      <td>/content/drive/Othercomputers/macbookpro/MURA-...</td>\n",
              "      <td>XR_WRIST</td>\n",
              "      <td>1</td>\n",
              "      <td>patient00006/study1_positive</td>\n",
              "    </tr>\n",
              "    <tr>\n",
              "      <th>17</th>\n",
              "      <td>/content/drive/Othercomputers/macbookpro/MURA-...</td>\n",
              "      <td>XR_WRIST</td>\n",
              "      <td>1</td>\n",
              "      <td>patient00006/study1_positive</td>\n",
              "    </tr>\n",
              "    <tr>\n",
              "      <th>18</th>\n",
              "      <td>/content/drive/Othercomputers/macbookpro/MURA-...</td>\n",
              "      <td>XR_WRIST</td>\n",
              "      <td>1</td>\n",
              "      <td>patient00006/study1_positive</td>\n",
              "    </tr>\n",
              "    <tr>\n",
              "      <th>27</th>\n",
              "      <td>/content/drive/Othercomputers/macbookpro/MURA-...</td>\n",
              "      <td>XR_HAND</td>\n",
              "      <td>1</td>\n",
              "      <td>patient00008/study1_positive</td>\n",
              "    </tr>\n",
              "    <tr>\n",
              "      <th>28</th>\n",
              "      <td>/content/drive/Othercomputers/macbookpro/MURA-...</td>\n",
              "      <td>XR_HAND</td>\n",
              "      <td>1</td>\n",
              "      <td>patient00008/study1_positive</td>\n",
              "    </tr>\n",
              "    <tr>\n",
              "      <th>...</th>\n",
              "      <td>...</td>\n",
              "      <td>...</td>\n",
              "      <td>...</td>\n",
              "      <td>...</td>\n",
              "    </tr>\n",
              "    <tr>\n",
              "      <th>40000</th>\n",
              "      <td>/content/drive/Othercomputers/macbookpro/MURA-...</td>\n",
              "      <td>XR_FINGER</td>\n",
              "      <td>0</td>\n",
              "      <td>patient11966/study1_negative</td>\n",
              "    </tr>\n",
              "    <tr>\n",
              "      <th>40001</th>\n",
              "      <td>/content/drive/Othercomputers/macbookpro/MURA-...</td>\n",
              "      <td>XR_FINGER</td>\n",
              "      <td>0</td>\n",
              "      <td>patient11967/study1_negative</td>\n",
              "    </tr>\n",
              "    <tr>\n",
              "      <th>40002</th>\n",
              "      <td>/content/drive/Othercomputers/macbookpro/MURA-...</td>\n",
              "      <td>XR_FINGER</td>\n",
              "      <td>0</td>\n",
              "      <td>patient11967/study1_negative</td>\n",
              "    </tr>\n",
              "    <tr>\n",
              "      <th>40003</th>\n",
              "      <td>/content/drive/Othercomputers/macbookpro/MURA-...</td>\n",
              "      <td>XR_FINGER</td>\n",
              "      <td>0</td>\n",
              "      <td>patient11967/study1_negative</td>\n",
              "    </tr>\n",
              "    <tr>\n",
              "      <th>40004</th>\n",
              "      <td>/content/drive/Othercomputers/macbookpro/MURA-...</td>\n",
              "      <td>XR_FINGER</td>\n",
              "      <td>0</td>\n",
              "      <td>patient11967/study1_negative</td>\n",
              "    </tr>\n",
              "  </tbody>\n",
              "</table>\n",
              "<p>21981 rows × 4 columns</p>\n",
              "</div>\n",
              "      <button class=\"colab-df-convert\" onclick=\"convertToInteractive('df-5673d249-f416-4e9d-bcbc-98d3c2184d19')\"\n",
              "              title=\"Convert this dataframe to an interactive table.\"\n",
              "              style=\"display:none;\">\n",
              "        \n",
              "  <svg xmlns=\"http://www.w3.org/2000/svg\" height=\"24px\"viewBox=\"0 0 24 24\"\n",
              "       width=\"24px\">\n",
              "    <path d=\"M0 0h24v24H0V0z\" fill=\"none\"/>\n",
              "    <path d=\"M18.56 5.44l.94 2.06.94-2.06 2.06-.94-2.06-.94-.94-2.06-.94 2.06-2.06.94zm-11 1L8.5 8.5l.94-2.06 2.06-.94-2.06-.94L8.5 2.5l-.94 2.06-2.06.94zm10 10l.94 2.06.94-2.06 2.06-.94-2.06-.94-.94-2.06-.94 2.06-2.06.94z\"/><path d=\"M17.41 7.96l-1.37-1.37c-.4-.4-.92-.59-1.43-.59-.52 0-1.04.2-1.43.59L10.3 9.45l-7.72 7.72c-.78.78-.78 2.05 0 2.83L4 21.41c.39.39.9.59 1.41.59.51 0 1.02-.2 1.41-.59l7.78-7.78 2.81-2.81c.8-.78.8-2.07 0-2.86zM5.41 20L4 18.59l7.72-7.72 1.47 1.35L5.41 20z\"/>\n",
              "  </svg>\n",
              "      </button>\n",
              "      \n",
              "  <style>\n",
              "    .colab-df-container {\n",
              "      display:flex;\n",
              "      flex-wrap:wrap;\n",
              "      gap: 12px;\n",
              "    }\n",
              "\n",
              "    .colab-df-convert {\n",
              "      background-color: #E8F0FE;\n",
              "      border: none;\n",
              "      border-radius: 50%;\n",
              "      cursor: pointer;\n",
              "      display: none;\n",
              "      fill: #1967D2;\n",
              "      height: 32px;\n",
              "      padding: 0 0 0 0;\n",
              "      width: 32px;\n",
              "    }\n",
              "\n",
              "    .colab-df-convert:hover {\n",
              "      background-color: #E2EBFA;\n",
              "      box-shadow: 0px 1px 2px rgba(60, 64, 67, 0.3), 0px 1px 3px 1px rgba(60, 64, 67, 0.15);\n",
              "      fill: #174EA6;\n",
              "    }\n",
              "\n",
              "    [theme=dark] .colab-df-convert {\n",
              "      background-color: #3B4455;\n",
              "      fill: #D2E3FC;\n",
              "    }\n",
              "\n",
              "    [theme=dark] .colab-df-convert:hover {\n",
              "      background-color: #434B5C;\n",
              "      box-shadow: 0px 1px 3px 1px rgba(0, 0, 0, 0.15);\n",
              "      filter: drop-shadow(0px 1px 2px rgba(0, 0, 0, 0.3));\n",
              "      fill: #FFFFFF;\n",
              "    }\n",
              "  </style>\n",
              "\n",
              "      <script>\n",
              "        const buttonEl =\n",
              "          document.querySelector('#df-5673d249-f416-4e9d-bcbc-98d3c2184d19 button.colab-df-convert');\n",
              "        buttonEl.style.display =\n",
              "          google.colab.kernel.accessAllowed ? 'block' : 'none';\n",
              "\n",
              "        async function convertToInteractive(key) {\n",
              "          const element = document.querySelector('#df-5673d249-f416-4e9d-bcbc-98d3c2184d19');\n",
              "          const dataTable =\n",
              "            await google.colab.kernel.invokeFunction('convertToInteractive',\n",
              "                                                     [key], {});\n",
              "          if (!dataTable) return;\n",
              "\n",
              "          const docLinkHtml = 'Like what you see? Visit the ' +\n",
              "            '<a target=\"_blank\" href=https://colab.research.google.com/notebooks/data_table.ipynb>data table notebook</a>'\n",
              "            + ' to learn more about interactive tables.';\n",
              "          element.innerHTML = '';\n",
              "          dataTable['output_type'] = 'display_data';\n",
              "          await google.colab.output.renderOutput(dataTable, element);\n",
              "          const docLink = document.createElement('div');\n",
              "          docLink.innerHTML = docLinkHtml;\n",
              "          element.appendChild(docLink);\n",
              "        }\n",
              "      </script>\n",
              "    </div>\n",
              "  </div>\n",
              "  "
            ],
            "text/plain": [
              "                                                    path   bodypart  \\\n",
              "16     /content/drive/Othercomputers/macbookpro/MURA-...   XR_WRIST   \n",
              "17     /content/drive/Othercomputers/macbookpro/MURA-...   XR_WRIST   \n",
              "18     /content/drive/Othercomputers/macbookpro/MURA-...   XR_WRIST   \n",
              "27     /content/drive/Othercomputers/macbookpro/MURA-...    XR_HAND   \n",
              "28     /content/drive/Othercomputers/macbookpro/MURA-...    XR_HAND   \n",
              "...                                                  ...        ...   \n",
              "40000  /content/drive/Othercomputers/macbookpro/MURA-...  XR_FINGER   \n",
              "40001  /content/drive/Othercomputers/macbookpro/MURA-...  XR_FINGER   \n",
              "40002  /content/drive/Othercomputers/macbookpro/MURA-...  XR_FINGER   \n",
              "40003  /content/drive/Othercomputers/macbookpro/MURA-...  XR_FINGER   \n",
              "40004  /content/drive/Othercomputers/macbookpro/MURA-...  XR_FINGER   \n",
              "\n",
              "       abnormality                         study  \n",
              "16               1  patient00006/study1_positive  \n",
              "17               1  patient00006/study1_positive  \n",
              "18               1  patient00006/study1_positive  \n",
              "27               1  patient00008/study1_positive  \n",
              "28               1  patient00008/study1_positive  \n",
              "...            ...                           ...  \n",
              "40000            0  patient11966/study1_negative  \n",
              "40001            0  patient11967/study1_negative  \n",
              "40002            0  patient11967/study1_negative  \n",
              "40003            0  patient11967/study1_negative  \n",
              "40004            0  patient11967/study1_negative  \n",
              "\n",
              "[21981 rows x 4 columns]"
            ]
          },
          "execution_count": 11,
          "metadata": {},
          "output_type": "execute_result"
        }
      ],
      "source": [
        "df_hand = df[(df[\"bodypart\"] == \"XR_HAND\") + (df[\"bodypart\"] == \"XR_FINGER\") + (df[\"bodypart\"] == \"XR_WRIST\")]\n",
        "df_hand"
      ]
    },
    {
      "cell_type": "code",
      "execution_count": null,
      "metadata": {
        "colab": {
          "base_uri": "https://localhost:8080/"
        },
        "id": "T-mB7TAfmL3c",
        "outputId": "2966d96b-ccf8-4188-dd78-621cb8e6c2c7"
      },
      "outputs": [
        {
          "data": {
            "text/plain": [
              "XR_WRIST     10411\n",
              "XR_HAND       6003\n",
              "XR_FINGER     5567\n",
              "Name: bodypart, dtype: int64"
            ]
          },
          "execution_count": 12,
          "metadata": {},
          "output_type": "execute_result"
        }
      ],
      "source": [
        "df_hand[\"bodypart\"].value_counts()"
      ]
    },
    {
      "cell_type": "markdown",
      "metadata": {
        "id": "zMMzruMTesc7"
      },
      "source": [
        "### Data preprocessing"
      ]
    },
    {
      "cell_type": "code",
      "execution_count": null,
      "metadata": {
        "colab": {
          "base_uri": "https://localhost:8080/"
        },
        "id": "cinoYuGk5Jm7",
        "outputId": "6acfc28d-2eef-446a-c85f-3f7eab5a4cdd"
      },
      "outputs": [
        {
          "data": {
            "text/plain": [
              "(17584, 17584, 4397, 4397)"
            ]
          },
          "execution_count": 13,
          "metadata": {},
          "output_type": "execute_result"
        }
      ],
      "source": [
        "from sklearn.model_selection import train_test_split\n",
        "from sklearn.utils import shuffle\n",
        "\n",
        "NUM_IMAGES = len(df_hand) # Only getting 10000 images to test\n",
        "# df_hand = shuffle(df_hand, random_state = 42)\n",
        "X = list(df_hand.path)\n",
        "y = list(df_hand.abnormality)\n",
        "\n",
        "X_train, X_val, y_train, y_val = train_test_split(X,\n",
        "                                                  y,\n",
        "                                                  test_size = 0.2,\n",
        "                                                  random_state = 42,\n",
        "                                                  shuffle = False)\n",
        "\n",
        "len(X_train), len(y_train), len(X_val), len(y_val)"
      ]
    },
    {
      "cell_type": "code",
      "execution_count": null,
      "metadata": {
        "id": "CPL8YlrkMC4E"
      },
      "outputs": [],
      "source": [
        "IMG_SIZE = 480\n",
        "\n",
        "def preprocess_image(path, label):\n",
        "  # Reading image file\n",
        "  img = tf.io.read_file(path)\n",
        "  # Convert string to a 3D uint8 tensor\n",
        "  img = tf.io.decode_png(img, channels = 3)\n",
        "  # Convert color channel values from 0 - 255 values to 0 - 1 values\n",
        "  img = tf.image.convert_image_dtype(img, tf.float32)\n",
        "  # Resize the image to the desired size\n",
        "  return tf.image.resize(img, [IMG_SIZE, IMG_SIZE]), label"
      ]
    },
    {
      "cell_type": "code",
      "execution_count": null,
      "metadata": {
        "id": "7MPDjjX4MpfY"
      },
      "outputs": [],
      "source": [
        "BATCH_SIZE = 64\n",
        "\n",
        "def create_data(x, y, batch_size = BATCH_SIZE, val_data = False):\n",
        "  if val_data: # Val data, no need to shuffle it\n",
        "    data = tf.data.Dataset.from_tensor_slices((tf.constant(x),\n",
        "                                              tf.constant(y)))\n",
        "    data = data.map(preprocess_image)\n",
        "    data_batches = data.batch(BATCH_SIZE)\n",
        "    return data_batches\n",
        "  else: # Train data\n",
        "    data = tf.data.Dataset.from_tensor_slices((tf.constant(x), # paths\n",
        "                                               tf.constant(y))) # labels\n",
        "    data = data.shuffle(buffer_size = len(x), seed = 42)\n",
        "    data = data.map(preprocess_image)\n",
        "    data_batches = data.batch(BATCH_SIZE)\n",
        "    return data_batches"
      ]
    },
    {
      "cell_type": "code",
      "execution_count": null,
      "metadata": {
        "id": "v8bwNgqU7BfC"
      },
      "outputs": [],
      "source": [
        "train_ds = create_data(X_train, y_train)\n",
        "val_ds = create_data(X_val, y_val, val_data = True)"
      ]
    },
    {
      "cell_type": "code",
      "execution_count": null,
      "metadata": {
        "colab": {
          "base_uri": "https://localhost:8080/"
        },
        "id": "gLFyow6dLgOa",
        "outputId": "cb1cd652-55b6-4b53-bc4b-b7d98ea553c1"
      },
      "outputs": [
        {
          "data": {
            "text/plain": [
              "(<BatchDataset element_spec=(TensorSpec(shape=(None, 480, 480, 3), dtype=tf.float32, name=None), TensorSpec(shape=(None,), dtype=tf.int32, name=None))>,\n",
              " <BatchDataset element_spec=(TensorSpec(shape=(None, 480, 480, 3), dtype=tf.float32, name=None), TensorSpec(shape=(None,), dtype=tf.int32, name=None))>)"
            ]
          },
          "execution_count": 17,
          "metadata": {},
          "output_type": "execute_result"
        }
      ],
      "source": [
        "train_ds, val_ds"
      ]
    },
    {
      "cell_type": "code",
      "execution_count": null,
      "metadata": {
        "id": "Bv1nFK8iQaQo"
      },
      "outputs": [],
      "source": [
        "import matplotlib.pyplot as plt\n",
        "\n",
        "# Create a function for viewing images in a data batch\n",
        "def show_25_images(images, labels):\n",
        "  \"\"\"\n",
        "  Displays 25 images from a data batch.\n",
        "  \"\"\"\n",
        "  # Setup the figure\n",
        "  plt.figure(figsize=(12, 12))\n",
        "  # Loop through 25 (for displaying 25 images)\n",
        "  for i in range(25):\n",
        "    # Create subplots (5 rows, 5 columns)\n",
        "    ax = plt.subplot(5, 5, i+1)\n",
        "    # Display an image\n",
        "    plt.imshow(images[i])\n",
        "    # Add the image label as the title\n",
        "    plt.title(labels[i])\n",
        "    # Turn gird lines off\n",
        "    plt.axis(\"off\")"
      ]
    },
    {
      "cell_type": "code",
      "execution_count": null,
      "metadata": {
        "colab": {
          "base_uri": "https://localhost:8080/",
          "height": 699
        },
        "id": "oXA3errmcQzQ",
        "outputId": "0a8687f2-6722-47c5-fc4b-4ed98773a287"
      },
      "outputs": [
        {
          "data": {
            "image/png": "[encoded data removed]",
            "text/plain": [
              "<Figure size 864x864 with 25 Axes>"
            ]
          },
          "metadata": {},
          "output_type": "display_data"
        }
      ],
      "source": [
        "train_images, train_labels = next(train_ds.as_numpy_iterator())\n",
        "show_25_images(train_images, train_labels)"
      ]
    },
    {
      "cell_type": "markdown",
      "metadata": {
        "id": "cHKpE5GARRTX"
      },
      "source": [
        "### Configuring the dataset for performance"
      ]
    },
    {
      "cell_type": "code",
      "execution_count": null,
      "metadata": {
        "colab": {
          "base_uri": "https://localhost:8080/"
        },
        "id": "nm7TtY3OWLH6",
        "outputId": "47778eda-829c-4937-d3f4-d4861482ae04"
      },
      "outputs": [
        {
          "data": {
            "text/plain": [
              "<PrefetchDataset element_spec=(TensorSpec(shape=(None, 480, 480, 3), dtype=tf.float32, name=None), TensorSpec(shape=(None,), dtype=tf.int32, name=None))>"
            ]
          },
          "execution_count": 19,
          "metadata": {},
          "output_type": "execute_result"
        }
      ],
      "source": [
        "AUTOTUNE = tf.data.AUTOTUNE\n",
        "\n",
        "train_ds.cache().shuffle(1000).prefetch(buffer_size = AUTOTUNE)\n",
        "val_ds.cache().prefetch(buffer_size = AUTOTUNE)"
      ]
    },
    {
      "cell_type": "markdown",
      "metadata": {
        "id": "BHUkjB40WV7V"
      },
      "source": [
        "### Creating model using TFHub EffNet v2 M"
      ]
    },
    {
      "cell_type": "code",
      "execution_count": null,
      "metadata": {
        "id": "eczqiJcuW1zq"
      },
      "outputs": [],
      "source": [
        "import tensorflow_hub as hub\n",
        "\n",
        "model_URL = \"https://tfhub.dev/google/imagenet/efficientnet_v2_imagenet1k_l/classification/2\"\n",
        "num_classes = 1\n",
        "INPUT_SHAPE = [None, 480, 480, 3]\n",
        "\n",
        "model = tf.keras.Sequential([\n",
        "    hub.KerasLayer(model_URL),\n",
        "    tf.keras.layers.Dropout(0.2),\n",
        "    tf.keras.layers.Dense(units = 1,\n",
        "                          activation = \"sigmoid\")\n",
        "])"
      ]
    },
    {
      "cell_type": "code",
      "execution_count": null,
      "metadata": {
        "colab": {
          "base_uri": "https://localhost:8080/"
        },
        "id": "rWmmCAycX946",
        "outputId": "d4d43b46-df50-4bec-c011-132afbdea1ac"
      },
      "outputs": [
        {
          "name": "stdout",
          "output_type": "stream",
          "text": [
            "Model: \"sequential\"\n",
            "_________________________________________________________________\n",
            " Layer (type)                Output Shape              Param #   \n",
            "=================================================================\n",
            " keras_layer (KerasLayer)    (None, 1000)              119027848 \n",
            "                                                                 \n",
            " dropout (Dropout)           (None, 1000)              0         \n",
            "                                                                 \n",
            " dense (Dense)               (None, 1)                 1001      \n",
            "                                                                 \n",
            "=================================================================\n",
            "Total params: 119,028,849\n",
            "Trainable params: 1,001\n",
            "Non-trainable params: 119,027,848\n",
            "_________________________________________________________________\n"
          ]
        }
      ],
      "source": [
        "model.compile(optimizer = tf.keras.optimizers.Adam(0.001),\n",
        "              loss = tf.keras.losses.BinaryCrossentropy(),\n",
        "              metrics = ['accuracy'])\n",
        "model.build(INPUT_SHAPE)\n",
        "model.summary()"
      ]
    },
    {
      "cell_type": "code",
      "execution_count": null,
      "metadata": {
        "id": "tJQjQaJGZWoB"
      },
      "outputs": [],
      "source": [
        "%load_ext tensorboard"
      ]
    },
    {
      "cell_type": "code",
      "execution_count": null,
      "metadata": {
        "id": "oH_N2zooZXtv"
      },
      "outputs": [],
      "source": [
        "import datetime\n",
        "\n",
        "# Create function to build TensorBoard callback\n",
        "def create_tensorboard_callback():\n",
        "  logdir = os.path.join(\"drive/MyDrive/TFG/logs\",\n",
        "                        datetime.datetime.now().strftime(\"%Y%m%d-%H%M&S\"))\n",
        "  return tf.keras.callbacks.TensorBoard(logdir)"
      ]
    },
    {
      "cell_type": "code",
      "execution_count": null,
      "metadata": {
        "id": "8XMsKuQ7YYeL"
      },
      "outputs": [],
      "source": [
        "early_stopping = tf.keras.callbacks.EarlyStopping(monitor=\"val_accuracy\",\n",
        "                                                  patience = 6) # stops after 6 rounds of no improvements"
      ]
    },
    {
      "cell_type": "code",
      "execution_count": null,
      "metadata": {
        "id": "OFZZ8KpVZ8a2"
      },
      "outputs": [],
      "source": [
        "# Callbacks to save the epoch with best val_accuracy\n",
        "checkpoint_filepath = \"/content/drive/MyDrive/TFG/models/checkpoints\"\n",
        "\n",
        "model_checkpoint_callback = tf.keras.callbacks.ModelCheckpoint(\n",
        "    filepath=checkpoint_filepath,\n",
        "    save_weights_only=True,\n",
        "    monitor='val_accuracy',\n",
        "    mode='max',\n",
        "    save_best_only=True)"
      ]
    },
    {
      "cell_type": "markdown",
      "metadata": {
        "id": "88LzPSrWmDvR"
      },
      "source": [
        "### Training the model on all the images"
      ]
    },
    {
      "cell_type": "code",
      "execution_count": null,
      "metadata": {
        "colab": {
          "base_uri": "https://localhost:8080/"
        },
        "id": "RgIrHQvrYkd-",
        "outputId": "e4a1f833-4d7e-412a-9be8-ab8bf665cc37"
      },
      "outputs": [
        {
          "name": "stdout",
          "output_type": "stream",
          "text": [
            "Epoch 1/100\n",
            "275/275 [==============================] - 2269s 8s/step - loss: 0.5888 - accuracy: 0.6879 - val_loss: 0.5753 - val_accuracy: 0.7180\n",
            "Epoch 2/100\n",
            "275/275 [==============================] - 534s 2s/step - loss: 0.5344 - accuracy: 0.7322 - val_loss: 0.5711 - val_accuracy: 0.7223\n",
            "Epoch 3/100\n",
            "275/275 [==============================] - 530s 2s/step - loss: 0.5200 - accuracy: 0.7420 - val_loss: 0.5990 - val_accuracy: 0.6816\n",
            "Epoch 4/100\n",
            "275/275 [==============================] - 533s 2s/step - loss: 0.5128 - accuracy: 0.7479 - val_loss: 0.5352 - val_accuracy: 0.7642\n",
            "Epoch 5/100\n",
            "275/275 [==============================] - 530s 2s/step - loss: 0.5098 - accuracy: 0.7510 - val_loss: 0.5699 - val_accuracy: 0.7171\n",
            "Epoch 6/100\n",
            "275/275 [==============================] - 534s 2s/step - loss: 0.5033 - accuracy: 0.7576 - val_loss: 0.5037 - val_accuracy: 0.7937\n",
            "Epoch 7/100\n",
            "275/275 [==============================] - 530s 2s/step - loss: 0.5022 - accuracy: 0.7585 - val_loss: 0.6176 - val_accuracy: 0.6643\n",
            "Epoch 8/100\n",
            "275/275 [==============================] - 534s 2s/step - loss: 0.5019 - accuracy: 0.7622 - val_loss: 0.4969 - val_accuracy: 0.8005\n",
            "Epoch 9/100\n",
            "275/275 [==============================] - 530s 2s/step - loss: 0.4979 - accuracy: 0.7610 - val_loss: 0.5463 - val_accuracy: 0.7419\n",
            "Epoch 10/100\n",
            "275/275 [==============================] - 531s 2s/step - loss: 0.5000 - accuracy: 0.7602 - val_loss: 0.5560 - val_accuracy: 0.7216\n",
            "Epoch 11/100\n",
            "275/275 [==============================] - 531s 2s/step - loss: 0.4960 - accuracy: 0.7619 - val_loss: 0.5231 - val_accuracy: 0.7712\n",
            "Epoch 12/100\n",
            "275/275 [==============================] - 531s 2s/step - loss: 0.4962 - accuracy: 0.7630 - val_loss: 0.5226 - val_accuracy: 0.7723\n",
            "Epoch 13/100\n",
            "275/275 [==============================] - 531s 2s/step - loss: 0.4970 - accuracy: 0.7619 - val_loss: 0.6369 - val_accuracy: 0.6325\n",
            "Epoch 14/100\n",
            "275/275 [==============================] - 531s 2s/step - loss: 0.4946 - accuracy: 0.7635 - val_loss: 0.5492 - val_accuracy: 0.7407\n"
          ]
        }
      ],
      "source": [
        "tensorboard = create_tensorboard_callback()\n",
        "\n",
        "epochs = 100\n",
        "history = model.fit(\n",
        "    train_ds,\n",
        "    validation_data=val_ds,\n",
        "    epochs = epochs,  \n",
        "    verbose = 1,\n",
        "    callbacks = [tensorboard, early_stopping, model_checkpoint_callback]\n",
        ")"
      ]
    },
    {
      "cell_type": "code",
      "execution_count": null,
      "metadata": {
        "id": "8y9oojeYaiDR"
      },
      "outputs": [],
      "source": [
        "model.load_weights(checkpoint_filepath)\n",
        "model.save(\"/content/drive/MyDrive/TFG/models/mura_effnet_hand.h5\")"
      ]
    },
    {
      "cell_type": "code",
      "execution_count": null,
      "metadata": {
        "id": "9h1DJ6IEY2yp"
      },
      "outputs": [],
      "source": [
        "acc = history.history['accuracy']\n",
        "val_acc = history.history['val_accuracy']\n",
        "epochs = 9\n",
        "loss = history.history['loss']\n",
        "val_loss = history.history['val_loss']\n",
        "\n",
        "epochs_range = range(epochs)\n",
        "\n",
        "plt.figure(figsize=(8, 8))\n",
        "plt.subplot(1, 2, 1)\n",
        "plt.plot(epochs_range, acc, label='Training Accuracy')\n",
        "plt.plot(epochs_range, val_acc, label='Validation Accuracy')\n",
        "plt.legend(loc='lower right')\n",
        "plt.title('Training and Validation Accuracy')\n",
        "\n",
        "plt.subplot(1, 2, 2)\n",
        "plt.plot(epochs_range, loss, label='Training Loss')\n",
        "plt.plot(epochs_range, val_loss, label='Validation Loss')\n",
        "plt.legend(loc='upper right')\n",
        "plt.title('Training and Validation Loss')\n",
        "plt.show()"
      ]
    },
    {
      "cell_type": "markdown",
      "metadata": {
        "id": "y-uX1KVN-Gk1"
      },
      "source": [
        "## Model Evaluation"
      ]
    },
    {
      "cell_type": "code",
      "execution_count": null,
      "metadata": {
        "colab": {
          "base_uri": "https://localhost:8080/"
        },
        "id": "VbiFGIR795ga",
        "outputId": "44f5eb52-e514-475a-ab8e-a5e5737512a8"
      },
      "outputs": [
        {
          "name": "stdout",
          "output_type": "stream",
          "text": [
            "Cohen kappa score is: 0.5011471492649713\n"
          ]
        }
      ],
      "source": [
        "from sklearn.metrics import classification_report, cohen_kappa_score, confusion_matrix\n",
        "\n",
        "pred_batch = model.predict(val_ds)\n",
        "pred = []\n",
        "for p in pred_batch:\n",
        "  if(p>0.5):\n",
        "    pred += [1]\n",
        "  else:\n",
        "    pred += [0]\n",
        "kap = cohen_kappa_score(y_val, pred)\n",
        "print(\"Cohen kappa score is: \" + str(kap))"
      ]
    },
    {
      "cell_type": "code",
      "execution_count": null,
      "metadata": {
        "colab": {
          "base_uri": "https://localhost:8080/"
        },
        "id": "TP0hymWW-S9U",
        "outputId": "d2b37423-2132-426d-9b27-c451f1bdfd8a"
      },
      "outputs": [
        {
          "name": "stdout",
          "output_type": "stream",
          "text": [
            "Classification report\n",
            "              precision    recall  f1-score   support\n",
            "\n",
            "           0       0.77      0.93      0.85      2778\n",
            "           1       0.83      0.53      0.64      1619\n",
            "\n",
            "    accuracy                           0.79      4397\n",
            "   macro avg       0.80      0.73      0.75      4397\n",
            "weighted avg       0.79      0.79      0.77      4397\n",
            "\n"
          ]
        }
      ],
      "source": [
        "# Classification report\n",
        "print(\"Classification report\")\n",
        "print(classification_report(y_val, pred, target_names = [\"0\", \"1\"]))"
      ]
    },
    {
      "cell_type": "code",
      "execution_count": null,
      "metadata": {
        "colab": {
          "base_uri": "https://localhost:8080/"
        },
        "id": "HhbyxdhF-aAm",
        "outputId": "830aa8f7-b451-4146-ca1d-fd5c31271071"
      },
      "outputs": [
        {
          "name": "stdout",
          "output_type": "stream",
          "text": [
            "Prediction error: 0.21469183534227881\n"
          ]
        }
      ],
      "source": [
        "# Prediction error\n",
        "error = np.sum(np.not_equal(pred, y_val))/len(y_val)\n",
        "print(\"Prediction error: \" + str(error))"
      ]
    },
    {
      "cell_type": "code",
      "execution_count": null,
      "metadata": {
        "colab": {
          "base_uri": "https://localhost:8080/",
          "height": 345
        },
        "id": "Ttwcc-1P-eaN",
        "outputId": "f778cbb0-ba06-4400-9fd4-07349488b916"
      },
      "outputs": [
        {
          "data": {
            "text/plain": [
              "<function matplotlib.pyplot.show(*args, **kw)>"
            ]
          },
          "execution_count": 87,
          "metadata": {},
          "output_type": "execute_result"
        },
        {
          "data": {
            "image/png": "[encoded data removed]",
            "text/plain": [
              "<Figure size 540x360 with 2 Axes>"
            ]
          },
          "metadata": {},
          "output_type": "display_data"
        }
      ],
      "source": [
        "import seaborn as sn\n",
        "\n",
        "# Confusion matrix\n",
        "cm = confusion_matrix(pred, y_val)\n",
        "plt.figure(figsize = (7.5, 5))\n",
        "sn.set(font_scale = 1.4)\n",
        "sn.heatmap(cm, annot = True, annot_kws = {\"size\": 20}, cmap = \"YlGnBu\")\n",
        "plt.show"
      ]
    },
    {
      "cell_type": "code",
      "execution_count": null,
      "metadata": {
        "colab": {
          "base_uri": "https://localhost:8080/"
        },
        "id": "s7UgjVa8-ish",
        "outputId": "ea5b920d-e11d-4ac6-9f9d-f5ca6384942e"
      },
      "outputs": [
        {
          "name": "stdout",
          "output_type": "stream",
          "text": [
            "69/69 [==============================] - 108s 2s/step\n"
          ]
        },
        {
          "data": {
            "text/plain": [
              "array([[0.15990013],\n",
              "       [0.40404502],\n",
              "       [0.0716437 ],\n",
              "       ...,\n",
              "       [0.9600809 ],\n",
              "       [0.9525826 ],\n",
              "       [0.18308328]], dtype=float32)"
            ]
          },
          "execution_count": 77,
          "metadata": {},
          "output_type": "execute_result"
        }
      ],
      "source": [
        "predictions = model.predict(val_ds, verbose = 1)\n",
        "predictions"
      ]
    },
    {
      "cell_type": "code",
      "execution_count": null,
      "metadata": {
        "id": "7u9eLXlm-m6h"
      },
      "outputs": [],
      "source": [
        "def get_pred_label(prob):\n",
        "  if prob > 0.5:\n",
        "    prediction = 1\n",
        "  if prob <= 0.5:\n",
        "    prediction = 0\n",
        "  return prediction"
      ]
    },
    {
      "cell_type": "code",
      "execution_count": null,
      "metadata": {
        "colab": {
          "base_uri": "https://localhost:8080/"
        },
        "id": "JXQlxWol-py4",
        "outputId": "6d29c2e7-3c5a-4778-d224-4492f7b7236e"
      },
      "outputs": [
        {
          "data": {
            "text/plain": [
              "(array([[[0.03137255, 0.03137255, 0.03137255],\n",
              "         [0.03396691, 0.03396691, 0.03396691],\n",
              "         [0.03677424, 0.03677424, 0.03677424],\n",
              "         ...,\n",
              "         [0.03889441, 0.03889441, 0.03889441],\n",
              "         [0.03658002, 0.03658002, 0.03658002],\n",
              "         [0.03908497, 0.03908497, 0.03908497]],\n",
              " \n",
              "        [[0.03176471, 0.03176471, 0.03176471],\n",
              "         [0.03203309, 0.03203309, 0.03203309],\n",
              "         [0.02695262, 0.02695262, 0.02695262],\n",
              "         ...,\n",
              "         [0.03487943, 0.03487943, 0.03487943],\n",
              "         [0.0372966 , 0.0372966 , 0.0372966 ],\n",
              "         [0.03568628, 0.03568628, 0.03568628]],\n",
              " \n",
              "        [[0.03464052, 0.03464052, 0.03464052],\n",
              "         [0.03732435, 0.03732435, 0.03732435],\n",
              "         [0.03639366, 0.03639366, 0.03639366],\n",
              "         ...,\n",
              "         [0.02968752, 0.02968752, 0.02968752],\n",
              "         [0.03185242, 0.03185242, 0.03185242],\n",
              "         [0.03856209, 0.03856209, 0.03856209]],\n",
              " \n",
              "        ...,\n",
              " \n",
              "        [[0.03267942, 0.03267942, 0.03267942],\n",
              "         [0.03178503, 0.03178503, 0.03178503],\n",
              "         [0.03013329, 0.03013329, 0.03013329],\n",
              "         ...,\n",
              "         [0.03185584, 0.03185584, 0.03185584],\n",
              "         [0.03082078, 0.03082078, 0.03082078],\n",
              "         [0.03529412, 0.03529412, 0.03529412]],\n",
              " \n",
              "        [[0.03490206, 0.03490206, 0.03490206],\n",
              "         [0.03248655, 0.03248655, 0.03248655],\n",
              "         [0.02951389, 0.02951389, 0.02951389],\n",
              "         ...,\n",
              "         [0.02967926, 0.02967926, 0.02967926],\n",
              "         [0.02900005, 0.02900005, 0.02900005],\n",
              "         [0.0247056 , 0.0247056 , 0.0247056 ]],\n",
              " \n",
              "        [[0.02771212, 0.02771212, 0.02771212],\n",
              "         [0.03021723, 0.03021723, 0.03021723],\n",
              "         [0.03131067, 0.03131067, 0.03131067],\n",
              "         ...,\n",
              "         [0.02951385, 0.02951385, 0.02951385],\n",
              "         [0.03248662, 0.03248662, 0.03248662],\n",
              "         [0.03490242, 0.03490242, 0.03490242]]], dtype=float32), 0)"
            ]
          },
          "execution_count": 79,
          "metadata": {},
          "output_type": "execute_result"
        }
      ],
      "source": [
        "# Unbatchify data\n",
        "def unbatchify(data):\n",
        "  images = []\n",
        "  labels = []\n",
        "  # Loop through unbatched data\n",
        "  for image, label in data.unbatch().as_numpy_iterator():\n",
        "    images.append(image)\n",
        "    labels.append(label)\n",
        "  return images, labels\n",
        "\n",
        "# Unbatch val data\n",
        "val_images, val_labels = unbatchify(val_ds)\n",
        "val_images[0], val_labels[0]"
      ]
    },
    {
      "cell_type": "code",
      "execution_count": null,
      "metadata": {
        "id": "2L-4v-4G-sf1"
      },
      "outputs": [],
      "source": [
        "def plot_pred(prediction_probabilities, labels, images, n = 1):\n",
        "  pred_prob, true_label, image = prediction_probabilities[n], labels[n], images[n]\n",
        "\n",
        "  # Get pred label\n",
        "  pred_label = get_pred_label(pred_prob)\n",
        "\n",
        "  # Plot image and remove ticks\n",
        "  plt.imshow(image)\n",
        "  plt.xticks([])\n",
        "  plt.yticks([])\n",
        "\n",
        "  # Change color of title depending on if the prediction is right or wrong\n",
        "  if pred_label == true_label:\n",
        "    color = \"green\"\n",
        "  else:\n",
        "    color = \"red\"\n",
        "  plt.title(\"{} {:2.0f}% ({})\".format(pred_label,\n",
        "                                      np.max(pred_prob)*100,\n",
        "                                      true_label),\n",
        "                                      color=color)"
      ]
    },
    {
      "cell_type": "code",
      "execution_count": null,
      "metadata": {
        "colab": {
          "base_uri": "https://localhost:8080/",
          "height": 268
        },
        "id": "r2ooaMBm-wYX",
        "outputId": "98646f8a-9535-402f-e94f-e416215a5285"
      },
      "outputs": [
        {
          "data": {
            "image/png": "[encoded data removed]",
            "text/plain": [
              "<Figure size 432x288 with 1 Axes>"
            ]
          },
          "metadata": {},
          "output_type": "display_data"
        }
      ],
      "source": [
        "plot_pred(prediction_probabilities = predictions, \n",
        "          labels = val_labels,\n",
        "          images = val_images,\n",
        "          n = 10)"
      ]
    },
    {
      "cell_type": "code",
      "execution_count": null,
      "metadata": {
        "id": "otheWOYQ-zm_"
      },
      "outputs": [],
      "source": [
        "def plot_pred_conf(prediction_probabilities, labels, n=1):\n",
        "  \"\"\"\n",
        "  Plots the top 10 highest prediction confidences along with\n",
        "  the truth label for sample n.\n",
        "  \"\"\"\n",
        "  pred_prob, true_label = prediction_probabilities[n], labels[n]\n",
        "\n",
        "  # Get the predicted label\n",
        "  pred_label = get_pred_label(pred_prob)\n",
        "\n",
        "  # Find the top 10 prediction confidence indexes\n",
        "  top_10_pred_indexes = pred_prob.argsort()[-10:][::-1]\n",
        "  # Find the top 10 prediction confidence values\n",
        "  top_10_pred_values = pred_prob[top_10_pred_indexes]\n",
        "  # Find the top 10 prediction labels\n",
        "  top_10_pred_labels = unique_breeds[top_10_pred_indexes]\n",
        "\n",
        "  # Setup plot\n",
        "  top_plot = plt.bar(np.arange(len(top_10_pred_labels)), \n",
        "                     top_10_pred_values, \n",
        "                     color=\"grey\")\n",
        "  plt.xticks(np.arange(len(top_10_pred_labels)),\n",
        "             labels=top_10_pred_labels,\n",
        "             rotation=\"vertical\")\n",
        "\n",
        "  # Change color of true label\n",
        "  if np.isin(true_label, top_10_pred_labels):\n",
        "    top_plot[np.argmax(top_10_pred_labels == true_label)].set_color(\"green\")\n",
        "  else:\n",
        "    pass"
      ]
    },
    {
      "cell_type": "code",
      "execution_count": null,
      "metadata": {
        "id": "GRZ2OIBL-2cp"
      },
      "outputs": [],
      "source": [
        "# Let's check a few predictions and their different values\n",
        "i_multiplier = 0\n",
        "num_rows = 4\n",
        "num_cols = 4\n",
        "num_images = num_rows*num_cols\n",
        "plt.figure(figsize=(10, 10))\n",
        "for i in range(num_images):\n",
        "  plt.subplot(num_rows, 2*num_cols, 2*i+1)\n",
        "  plot_pred(prediction_probabilities=predictions,\n",
        "            labels=val_labels,\n",
        "            images=val_images,\n",
        "            n=i+i_multiplier)\n",
        "plt.tight_layout(h_pad=1.0)\n",
        "plt.show()"
      ]
    },
    {
      "cell_type": "markdown",
      "metadata": {
        "id": "b0cdJOqbGJqZ"
      },
      "source": [
        "## Using loaded model"
      ]
    },
    {
      "cell_type": "code",
      "execution_count": null,
      "metadata": {
        "id": "gXgxMvsmiQDw"
      },
      "outputs": [],
      "source": [
        "import tensorflow_hub as hub\n",
        "model = tf.keras.models.load_model(\"/content/drive/MyDrive/TFG/models/mura_effnet_hand.h5\", custom_objects={'KerasLayer': hub.KerasLayer})"
      ]
    },
    {
      "cell_type": "code",
      "execution_count": null,
      "metadata": {
        "colab": {
          "base_uri": "https://localhost:8080/"
        },
        "id": "kAp8GbK6ilyQ",
        "outputId": "3a484df2-5841-4cae-e5c8-9964e234c2b4"
      },
      "outputs": [
        {
          "data": {
            "text/plain": [
              "(['/content/drive/Othercomputers/macbookpro/MURA-v1.1/train/XR_HAND/patient10166/study1_negative/image1.png',\n",
              "  '/content/drive/Othercomputers/macbookpro/MURA-v1.1/train/XR_HAND/patient10166/study1_negative/image2.png',\n",
              "  '/content/drive/Othercomputers/macbookpro/MURA-v1.1/train/XR_HAND/patient10166/study1_negative/image3.png',\n",
              "  '/content/drive/Othercomputers/macbookpro/MURA-v1.1/train/XR_HAND/patient10166/study1_negative/image4.png',\n",
              "  '/content/drive/Othercomputers/macbookpro/MURA-v1.1/train/XR_HAND/patient10167/study1_negative/image1.png'],\n",
              " [0, 0, 0, 0, 0])"
            ]
          },
          "execution_count": 21,
          "metadata": {},
          "output_type": "execute_result"
        }
      ],
      "source": [
        "X_val[:5], y_val[:5]"
      ]
    },
    {
      "cell_type": "code",
      "execution_count": null,
      "metadata": {
        "colab": {
          "base_uri": "https://localhost:8080/"
        },
        "id": "ImAO4UbumEA5",
        "outputId": "f9ecf31c-8dda-478b-904c-dee66198a1a9"
      },
      "outputs": [
        {
          "data": {
            "text/plain": [
              "<BatchDataset element_spec=(TensorSpec(shape=(None, 480, 480, 3), dtype=tf.float32, name=None), TensorSpec(shape=(None,), dtype=tf.int32, name=None))>"
            ]
          },
          "execution_count": 23,
          "metadata": {},
          "output_type": "execute_result"
        }
      ],
      "source": [
        "val_ds"
      ]
    },
    {
      "cell_type": "code",
      "execution_count": null,
      "metadata": {
        "colab": {
          "base_uri": "https://localhost:8080/"
        },
        "id": "aL0v_Nz2mv5Z",
        "outputId": "aa14d710-a4d6-4d3d-b46c-011e83f493fb"
      },
      "outputs": [
        {
          "name": "stdout",
          "output_type": "stream",
          "text": [
            "69/69 [==============================] - 4590s 67s/step\n"
          ]
        }
      ],
      "source": [
        "predictions = model.predict(val_ds, verbose = 1)"
      ]
    },
    {
      "cell_type": "code",
      "execution_count": null,
      "metadata": {
        "id": "GC9oCIYKfAHj"
      },
      "outputs": [],
      "source": [
        "%tensorboard --logdir /content/drive/MyDrive/TFG/logs"
      ]
    },
    {
      "cell_type": "code",
      "execution_count": null,
      "metadata": {
        "id": "7cfqJQ2om5t0"
      },
      "outputs": [],
      "source": [
        "val_df = pd.DataFrame([X_val, y_val, predictions], columns = [\"path\", \"abnormality\", \"predicted abnormality\"])"
      ]
    }
  ],
  "metadata": {
    "accelerator": "GPU",
    "colab": {
      "collapsed_sections": [],
      "machine_shape": "hm",
      "provenance": []
    },
    "kernelspec": {
      "display_name": "Python 3",
      "name": "python3"
    },
    "language_info": {
      "name": "python"
    }
  },
  "nbformat": 4,
  "nbformat_minor": 0
}